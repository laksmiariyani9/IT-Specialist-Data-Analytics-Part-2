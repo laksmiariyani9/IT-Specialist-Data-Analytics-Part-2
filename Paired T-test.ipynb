{
 "cells": [
  {
   "cell_type": "markdown",
   "id": "3ddc102d-c948-4690-a9b3-0157294d1994",
   "metadata": {},
   "source": [
    "# T-TEST"
   ]
  },
  {
   "cell_type": "markdown",
   "id": "60522cf4-8c9d-4823-b6bc-f035186521a2",
   "metadata": {},
   "source": [
    "T-tests are statistical tools used to compare the means of two groups. There are several types of t-tests, with the most common ones being:\n",
    "Independent T-Test: Used when you want to compare the means of two different groups independently. For example, you might want to know if there's a difference in test scores between male and female students.\n",
    "Paired T-Test: Used when you want to compare the means of the same group measured at two different times or conditions. For instance, you might want to determine if a particular therapy improves patients' test scores before and after treatment.\n",
    "When conducting a t-test, you have two hypotheses:\n",
    "- Null Hypothesis (H0): This states that there's no significant difference between the two groups being compared.\n",
    "- Alternative Hypothesis (H1): This states that there is a significant difference between the two groups being compared.\n",
    "The output of a t-test provides two main components:\n",
    "- T-Statistic: This measures how large the difference between the means of the two groups is in terms of standard deviation units.\n",
    "- P-Value: This is the probability of observing a t-statistic as extreme as the one computed, assuming the null hypothesis is true. The smaller the p-value, the stronger the evidence to reject the null hypothesis.\n",
    "In t-test analysis, you typically set a significance level beforehand (usually 0.05) as the threshold to determine whether the result is statistically significant. If the p-value is less than the chosen threshold, you can reject the null hypothesis and conclude that there's a significant difference between the two groups being compared. However, if the p-value is greater than the threshold, you fail to reject the null hypothesis, indicating that there isn't enough evidence to claim a significant difference.\n"
   ]
  },
  {
   "cell_type": "markdown",
   "id": "c703470d-e3fb-45c8-bff3-25ca7a9b9f14",
   "metadata": {},
   "source": [
    "### Example from the data about Blood Pressure"
   ]
  },
  {
   "cell_type": "code",
   "execution_count": 1,
   "id": "4a837040-c4e9-4208-8d2a-e71d931f57d8",
   "metadata": {},
   "outputs": [],
   "source": [
    "import pandas as pd\n",
    "from scipy import stats\n",
    "from statsmodels.stats import weightstats as stests"
   ]
  },
  {
   "cell_type": "code",
   "execution_count": 2,
   "id": "88afc1af-d4e8-4255-9eba-c2fce81d60d4",
   "metadata": {},
   "outputs": [],
   "source": [
    "df = pd.read_csv('blood_pressure.csv')"
   ]
  },
  {
   "cell_type": "code",
   "execution_count": 3,
   "id": "83216d51-56f1-4e60-9862-59846b9446a8",
   "metadata": {},
   "outputs": [
    {
     "data": {
      "text/html": [
       "<div>\n",
       "<style scoped>\n",
       "    .dataframe tbody tr th:only-of-type {\n",
       "        vertical-align: middle;\n",
       "    }\n",
       "\n",
       "    .dataframe tbody tr th {\n",
       "        vertical-align: top;\n",
       "    }\n",
       "\n",
       "    .dataframe thead th {\n",
       "        text-align: right;\n",
       "    }\n",
       "</style>\n",
       "<table border=\"1\" class=\"dataframe\">\n",
       "  <thead>\n",
       "    <tr style=\"text-align: right;\">\n",
       "      <th></th>\n",
       "      <th>patient</th>\n",
       "      <th>sex</th>\n",
       "      <th>agegrp</th>\n",
       "      <th>bp_before</th>\n",
       "      <th>bp_after</th>\n",
       "    </tr>\n",
       "  </thead>\n",
       "  <tbody>\n",
       "    <tr>\n",
       "      <th>0</th>\n",
       "      <td>1</td>\n",
       "      <td>Male</td>\n",
       "      <td>30-45</td>\n",
       "      <td>143</td>\n",
       "      <td>153</td>\n",
       "    </tr>\n",
       "    <tr>\n",
       "      <th>1</th>\n",
       "      <td>2</td>\n",
       "      <td>Male</td>\n",
       "      <td>30-45</td>\n",
       "      <td>163</td>\n",
       "      <td>170</td>\n",
       "    </tr>\n",
       "    <tr>\n",
       "      <th>2</th>\n",
       "      <td>3</td>\n",
       "      <td>Male</td>\n",
       "      <td>30-45</td>\n",
       "      <td>153</td>\n",
       "      <td>168</td>\n",
       "    </tr>\n",
       "    <tr>\n",
       "      <th>3</th>\n",
       "      <td>4</td>\n",
       "      <td>Male</td>\n",
       "      <td>30-45</td>\n",
       "      <td>153</td>\n",
       "      <td>142</td>\n",
       "    </tr>\n",
       "    <tr>\n",
       "      <th>4</th>\n",
       "      <td>5</td>\n",
       "      <td>Male</td>\n",
       "      <td>30-45</td>\n",
       "      <td>146</td>\n",
       "      <td>141</td>\n",
       "    </tr>\n",
       "  </tbody>\n",
       "</table>\n",
       "</div>"
      ],
      "text/plain": [
       "   patient   sex agegrp  bp_before  bp_after\n",
       "0        1  Male  30-45        143       153\n",
       "1        2  Male  30-45        163       170\n",
       "2        3  Male  30-45        153       168\n",
       "3        4  Male  30-45        153       142\n",
       "4        5  Male  30-45        146       141"
      ]
     },
     "execution_count": 3,
     "metadata": {},
     "output_type": "execute_result"
    }
   ],
   "source": [
    "df[['bp_before', 'bp_after']].describe()\n",
    "df.head(5)"
   ]
  },
  {
   "cell_type": "code",
   "execution_count": 4,
   "id": "f23621ea-78b6-47d6-a5fb-192d2ab4f2d4",
   "metadata": {},
   "outputs": [
    {
     "data": {
      "text/plain": [
       "(120, 5)"
      ]
     },
     "execution_count": 4,
     "metadata": {},
     "output_type": "execute_result"
    }
   ],
   "source": [
    "df.shape"
   ]
  },
  {
   "cell_type": "code",
   "execution_count": 5,
   "id": "9c3f9393-c79f-4335-9d11-5134e75945ef",
   "metadata": {},
   "outputs": [
    {
     "name": "stdout",
     "output_type": "stream",
     "text": [
      "0.0011297914644840823\n"
     ]
    }
   ],
   "source": [
    "ttest, pval = stats.ttest_rel(df['bp_before'], df['bp_after'])\n",
    "print (pval)"
   ]
  },
  {
   "cell_type": "code",
   "execution_count": 6,
   "id": "519c141e-4d57-4c79-b659-5e95f655a7e2",
   "metadata": {},
   "outputs": [
    {
     "name": "stdout",
     "output_type": "stream",
     "text": [
      "reject null hypothesis\n"
     ]
    }
   ],
   "source": [
    "if pval < 0.05:\n",
    "    print(\"reject null hypothesis\")\n",
    "else:\n",
    "    print(\"accept null hyphothesis\")"
   ]
  },
  {
   "cell_type": "markdown",
   "id": "2fa7bd4f-0d5d-4c32-b4a9-5b78dfe327d1",
   "metadata": {},
   "source": [
    "_It can be concluded that there is sufficient evidence to support the idea that there is a significant difference between the two groups._"
   ]
  },
  {
   "cell_type": "markdown",
   "id": "3797c47d-cca0-47f3-9f38-d37f49213364",
   "metadata": {},
   "source": [
    "### More example from the data about Fish Market"
   ]
  },
  {
   "cell_type": "code",
   "execution_count": 7,
   "id": "3afea177-6202-4c2b-9bf5-a1c4627ad3b1",
   "metadata": {},
   "outputs": [],
   "source": [
    "df = pd.read_csv('Fish.csv')"
   ]
  },
  {
   "cell_type": "code",
   "execution_count": 8,
   "id": "9ab7cf6e-4657-4cb1-8ac8-77eea6185d95",
   "metadata": {},
   "outputs": [
    {
     "data": {
      "text/html": [
       "<div>\n",
       "<style scoped>\n",
       "    .dataframe tbody tr th:only-of-type {\n",
       "        vertical-align: middle;\n",
       "    }\n",
       "\n",
       "    .dataframe tbody tr th {\n",
       "        vertical-align: top;\n",
       "    }\n",
       "\n",
       "    .dataframe thead th {\n",
       "        text-align: right;\n",
       "    }\n",
       "</style>\n",
       "<table border=\"1\" class=\"dataframe\">\n",
       "  <thead>\n",
       "    <tr style=\"text-align: right;\">\n",
       "      <th></th>\n",
       "      <th>Species</th>\n",
       "      <th>Weight</th>\n",
       "      <th>Length1</th>\n",
       "      <th>Length2</th>\n",
       "      <th>Length3</th>\n",
       "      <th>Height</th>\n",
       "      <th>Width</th>\n",
       "    </tr>\n",
       "  </thead>\n",
       "  <tbody>\n",
       "    <tr>\n",
       "      <th>0</th>\n",
       "      <td>Bream</td>\n",
       "      <td>242.0</td>\n",
       "      <td>23.2</td>\n",
       "      <td>25.4</td>\n",
       "      <td>30.0</td>\n",
       "      <td>11.5200</td>\n",
       "      <td>4.0200</td>\n",
       "    </tr>\n",
       "    <tr>\n",
       "      <th>1</th>\n",
       "      <td>Bream</td>\n",
       "      <td>290.0</td>\n",
       "      <td>24.0</td>\n",
       "      <td>26.3</td>\n",
       "      <td>31.2</td>\n",
       "      <td>12.4800</td>\n",
       "      <td>4.3056</td>\n",
       "    </tr>\n",
       "    <tr>\n",
       "      <th>2</th>\n",
       "      <td>Bream</td>\n",
       "      <td>340.0</td>\n",
       "      <td>23.9</td>\n",
       "      <td>26.5</td>\n",
       "      <td>31.1</td>\n",
       "      <td>12.3778</td>\n",
       "      <td>4.6961</td>\n",
       "    </tr>\n",
       "    <tr>\n",
       "      <th>3</th>\n",
       "      <td>Bream</td>\n",
       "      <td>363.0</td>\n",
       "      <td>26.3</td>\n",
       "      <td>29.0</td>\n",
       "      <td>33.5</td>\n",
       "      <td>12.7300</td>\n",
       "      <td>4.4555</td>\n",
       "    </tr>\n",
       "    <tr>\n",
       "      <th>4</th>\n",
       "      <td>Bream</td>\n",
       "      <td>430.0</td>\n",
       "      <td>26.5</td>\n",
       "      <td>29.0</td>\n",
       "      <td>34.0</td>\n",
       "      <td>12.4440</td>\n",
       "      <td>5.1340</td>\n",
       "    </tr>\n",
       "  </tbody>\n",
       "</table>\n",
       "</div>"
      ],
      "text/plain": [
       "  Species  Weight  Length1  Length2  Length3   Height   Width\n",
       "0   Bream   242.0     23.2     25.4     30.0  11.5200  4.0200\n",
       "1   Bream   290.0     24.0     26.3     31.2  12.4800  4.3056\n",
       "2   Bream   340.0     23.9     26.5     31.1  12.3778  4.6961\n",
       "3   Bream   363.0     26.3     29.0     33.5  12.7300  4.4555\n",
       "4   Bream   430.0     26.5     29.0     34.0  12.4440  5.1340"
      ]
     },
     "execution_count": 8,
     "metadata": {},
     "output_type": "execute_result"
    }
   ],
   "source": [
    "df[['Length1', 'Length2']].describe()\n",
    "df.head(5)"
   ]
  },
  {
   "cell_type": "code",
   "execution_count": 9,
   "id": "6043fae4-ac03-4a30-8bb5-db595e99133e",
   "metadata": {},
   "outputs": [
    {
     "data": {
      "text/plain": [
       "(159, 7)"
      ]
     },
     "execution_count": 9,
     "metadata": {},
     "output_type": "execute_result"
    }
   ],
   "source": [
    "df.shape"
   ]
  },
  {
   "cell_type": "code",
   "execution_count": 10,
   "id": "81631876-4edf-4ee5-a06e-205bff3b0c2d",
   "metadata": {},
   "outputs": [
    {
     "name": "stdout",
     "output_type": "stream",
     "text": [
      "8.98060011577915e-76\n"
     ]
    }
   ],
   "source": [
    "ttest, pval = stats.ttest_rel(df['Length1'], df['Length2'])\n",
    "print (pval)"
   ]
  },
  {
   "cell_type": "code",
   "execution_count": 11,
   "id": "3d56901d-086a-4813-bfbe-53122fb52b9c",
   "metadata": {},
   "outputs": [
    {
     "name": "stdout",
     "output_type": "stream",
     "text": [
      "reject null hypothesis\n"
     ]
    }
   ],
   "source": [
    "if pval < 0.05:\n",
    "    print(\"reject null hypothesis\")\n",
    "else:\n",
    "    print(\"accept null hyphothesis\")"
   ]
  },
  {
   "cell_type": "markdown",
   "id": "463eb835-c86a-4167-8b23-eaf88617d31a",
   "metadata": {},
   "source": [
    "_It can be concluded that there is sufficient evidence to support the idea that there is a significant difference between the two groups._"
   ]
  },
  {
   "cell_type": "code",
   "execution_count": null,
   "id": "6c5c2784-d9ec-4075-9ed9-f460d7027f4b",
   "metadata": {},
   "outputs": [],
   "source": []
  }
 ],
 "metadata": {
  "kernelspec": {
   "display_name": "Python 3 (ipykernel)",
   "language": "python",
   "name": "python3"
  },
  "language_info": {
   "codemirror_mode": {
    "name": "ipython",
    "version": 3
   },
   "file_extension": ".py",
   "mimetype": "text/x-python",
   "name": "python",
   "nbconvert_exporter": "python",
   "pygments_lexer": "ipython3",
   "version": "3.11.7"
  }
 },
 "nbformat": 4,
 "nbformat_minor": 5
}
