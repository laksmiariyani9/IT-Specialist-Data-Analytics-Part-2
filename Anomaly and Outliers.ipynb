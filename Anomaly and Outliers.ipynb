{
 "cells": [
  {
   "cell_type": "markdown",
   "id": "68611ace-ca26-4d72-babd-5bcd5904a277",
   "metadata": {},
   "source": [
    "# ANOMALIES\n",
    "\n",
    "Events that exceed the threshold value are called extreme events. Modeling extreme events cannot be done with a normal distribution approach, but with a distribution that has a long tail (heavy tail)."
   ]
  },
  {
   "cell_type": "markdown",
   "id": "3040ca06-26e7-4acb-8332-bee0d5d8e392",
   "metadata": {},
   "source": [
    "### Example"
   ]
  },
  {
   "cell_type": "markdown",
   "id": "8b8e1456-b80a-4720-a14d-e45038de7ca6",
   "metadata": {},
   "source": [
    "Here's a simple example of how you can detect anomalies in a dataset using Python with a statistical approach, specifically using the Z-score method:"
   ]
  },
  {
   "cell_type": "code",
   "execution_count": 1,
   "id": "1bbda157-18f7-4e20-8d72-61fcfa7ef08c",
   "metadata": {},
   "outputs": [],
   "source": [
    "import numpy as np\n",
    "\n",
    "# Generate sample data\n",
    "np.random.seed(42)\n",
    "data = np.concatenate([np.random.normal(loc=0, scale=1, size=1000),  # Normal data\n",
    "                       np.random.normal(loc=5, scale=1, size=50),     # Anomalous data\n",
    "                       np.random.normal(loc=-5, scale=1, size=50)])"
   ]
  },
  {
   "cell_type": "code",
   "execution_count": 2,
   "id": "ddf3626a-997b-4d21-a2a5-0008756e5c8b",
   "metadata": {},
   "outputs": [],
   "source": [
    "# Calculate Z-scores\n",
    "z_scores = (data - np.mean(data)) / np.std(data)"
   ]
  },
  {
   "cell_type": "code",
   "execution_count": 3,
   "id": "63df12e5-590e-44ba-9c4c-df940c760ab5",
   "metadata": {},
   "outputs": [],
   "source": [
    "# Set threshold for anomaly detection\n",
    "threshold = 3  # Z-score threshold for outliers"
   ]
  },
  {
   "cell_type": "code",
   "execution_count": 4,
   "id": "53825218-bd91-45df-bc67-42fdbce02414",
   "metadata": {},
   "outputs": [],
   "source": [
    "# Detect anomalies\n",
    "anomalies = np.where(np.abs(z_scores) > threshold)[0]"
   ]
  },
  {
   "cell_type": "code",
   "execution_count": 5,
   "id": "0322dcb7-a1fa-4e6a-a822-43c60dc41d21",
   "metadata": {},
   "outputs": [
    {
     "name": "stdout",
     "output_type": "stream",
     "text": [
      "Indices of anomalies: [1000 1001 1004 1006 1007 1008 1010 1012 1014 1023 1024 1028 1033 1035\n",
      " 1039 1040 1042 1045 1046 1048 1049 1050 1054 1055 1061 1063 1065 1066\n",
      " 1073 1075 1076 1097]\n"
     ]
    }
   ],
   "source": [
    "# Print indices of anomalies\n",
    "print(\"Indices of anomalies:\", anomalies)"
   ]
  },
  {
   "cell_type": "markdown",
   "id": "c8c81ddc-2f9d-4c43-9740-8f894d0a752c",
   "metadata": {},
   "source": [
    "In this example:\n",
    "\n",
    "- We generate sample data consisting of normal and anomalous data points.\n",
    "- We calculate the Z-scores for each data point, which measure how many standard deviations away each data point is from the mean.\n",
    "- We set a threshold for anomaly detection based on the Z-score. In this case, we consider data points with a Z-score greater than 3 (or less than -3) as outliers.\n",
    "- We detect anomalies based on the threshold by finding the indices of data points with Z-scores exceeding the threshold.\n",
    "    \n",
    "You can modify the threshold or explore other statistical methods to detect anomalies based on your dataset and specific requirements. Additionally, visualization techniques can also be used to explore and understand the anomalies in the data more intuitively."
   ]
  },
  {
   "cell_type": "markdown",
   "id": "fcd5adb3-55c5-42b7-8b75-7279d8ae208a",
   "metadata": {},
   "source": [
    "# OUTLIER\n",
    "\n",
    "In statistics, an outlier is a data point that differs significantly from other observations. Outliers may be caused by variability in measurements, indicative of new data or may be the result of experimental error"
   ]
  },
  {
   "cell_type": "markdown",
   "id": "b7ea6a88-f2a2-491a-acb7-6b887f27bf3e",
   "metadata": {},
   "source": [
    "### Example\n",
    "\n",
    "Here's an example of how you can detect outliers in a dataset using Python:"
   ]
  },
  {
   "cell_type": "code",
   "execution_count": 6,
   "id": "7e2e6a16-8514-4051-b8da-266f0b3cc158",
   "metadata": {},
   "outputs": [],
   "source": [
    "import numpy as np\n",
    "import matplotlib.pyplot as plt\n",
    "\n",
    "# Generate sample data\n",
    "np.random.seed(42)\n",
    "data = np.concatenate([np.random.normal(loc=0, scale=1, size=1000),  # Normal data\n",
    "                       np.random.normal(loc=5, scale=1, size=50),     # Anomalous data (outliers)\n",
    "                       np.random.normal(loc=-5, scale=1, size=50)])"
   ]
  },
  {
   "cell_type": "code",
   "execution_count": 9,
   "id": "214f63f3-f420-4363-ad8a-a8b6ca1105d2",
   "metadata": {},
   "outputs": [
    {
     "data": {
      "image/png": "[encoded data removed]",
      "text/plain": [
       "<Figure size 1000x600 with 1 Axes>"
      ]
     },
     "metadata": {},
     "output_type": "display_data"
    }
   ],
   "source": [
    "# Visualize the data\n",
    "plt.figure(figsize=(10, 6))\n",
    "plt.hist(data, bins=50, density=True, alpha=0.5, color='blue')\n",
    "plt.title('Histogram of Data')\n",
    "plt.xlabel('Value')\n",
    "plt.ylabel('Density')\n",
    "plt.show()"
   ]
  },
  {
   "cell_type": "markdown",
   "id": "fdd49456-7ab7-4429-bd1b-d4acbc912819",
   "metadata": {},
   "source": [
    "In this example:\n",
    "\n",
    "- We generate sample data consisting of normal data and outliers (anomalous data points).\n",
    "- We visualize the histogram of the data using matplotlib to observe its distribution.\n",
    "\n",
    "The outliers (anomalous data points) can be seen as the data points that are significantly distant from the main distribution in the histogram. In this case, the outliers are the data points located far away from the main peak of the distribution, which are the ones generated with a mean of 5 and -5, compared to the majority of data generated with a mean of 0."
   ]
  }
 ],
 "metadata": {
  "kernelspec": {
   "display_name": "Python 3 (ipykernel)",
   "language": "python",
   "name": "python3"
  },
  "language_info": {
   "codemirror_mode": {
    "name": "ipython",
    "version": 3
   },
   "file_extension": ".py",
   "mimetype": "text/x-python",
   "name": "python",
   "nbconvert_exporter": "python",
   "pygments_lexer": "ipython3",
   "version": "3.11.7"
  }
 },
 "nbformat": 4,
 "nbformat_minor": 5
}
