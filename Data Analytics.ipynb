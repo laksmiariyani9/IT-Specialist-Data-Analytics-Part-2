{
 "cells": [
  {
   "cell_type": "markdown",
   "id": "d15888d4-08a7-4c61-9315-de6759b07d35",
   "metadata": {},
   "source": [
    "# DATA ANALYTICS\n",
    "Data analytics can be divided into several different stages, each with its own objectives and analytical approaches. Here is a brief explanation of each stage:"
   ]
  },
  {
   "cell_type": "markdown",
   "id": "930731a9-cfc3-4c59-8e3a-8607c5a29dfb",
   "metadata": {},
   "source": [
    "# 1. _Descriptive Analytics_\n",
    "This is the initial stage of data analysis where data is understood, described, and summarized statistically. The primary goal is to provide a comprehensive understanding of patterns in the data without making inferences or predictions about the future. It involves the use of descriptive statistics, data visualization, and other techniques to present data in an understandable manner.\n",
    "\n",
    "Here are examples of descriptive data in data analytics:\n",
    "\n",
    "1. **Descriptive Statistics**: This includes measures of central tendency such as mean, median, and mode, as well as measures of dispersion such as range, standard deviation, and variance. Examples of descriptive statistics for a dataset of student heights may include the average height, median height, and mode height, as well as the standard deviation of height.\n",
    "\n",
    "2. **Histogram**: A histogram is a visual representation of the frequency distribution of a variable. It divides the range of variable values into several intervals and shows the number of observations that fall into each interval. An example histogram in data analysis might display the frequency distribution of student test scores.\n",
    "\n",
    "3. **Boxplot**: A boxplot is a visual diagram that displays a summary of the distribution of one or more numeric variables through boxes, lines, and points. It provides information about the median, quartiles, and the presence of outliers in the data. Examples of boxplots can be used to compare the salary distribution among departments in a company.\n",
    "\n",
    "4. **Pie Chart**: A pie chart is a visual representation of the relative proportions of several categories within a whole. It is useful for showing the contribution of each category to the total. Examples of pie charts might display the sales proportions of various products in a year.\n",
    "\n",
    "5. **Frequency Table**: A frequency table is a table that shows the number of observations or frequency for each value or category of one or more variables. It is useful for summarizing the distribution or pattern of data. Examples of frequency tables might display the number of students in each grade in a school.\n",
    "\n",
    "These examples are some common ways in which descriptive data is used in data analytics to provide a better understanding of the characteristics and patterns within a dataset."
   ]
  },
  {
   "cell_type": "markdown",
   "id": "e9cde618-992e-4f3c-99be-22b9ca728ddd",
   "metadata": {},
   "source": [
    "### Example"
   ]
  },
  {
   "cell_type": "markdown",
   "id": "c8feaabe-86f8-4022-95d2-48ebfb477b6d",
   "metadata": {},
   "source": [
    "Let's say you have a dataset containing information about students' exam scores, and you want to perform descriptive analytics on this dataset."
   ]
  },
  {
   "cell_type": "code",
   "execution_count": 1,
   "id": "d38e2b30-b05f-4cf5-aa18-83cb0b96b78b",
   "metadata": {},
   "outputs": [],
   "source": [
    "import pandas as pd\n",
    "import matplotlib.pyplot as plt\n",
    "\n",
    "# Sample dataset\n",
    "data = {\n",
    "    'Student_ID': [1, 2, 3, 4, 5],\n",
    "    'Exam_Score': [85, 90, 78, 92, 88]\n",
    "}\n",
    "\n",
    "df = pd.DataFrame(data)"
   ]
  },
  {
   "cell_type": "code",
   "execution_count": 19,
   "id": "7dfe2da8-9e9b-4bcc-a047-9701989ffe65",
   "metadata": {},
   "outputs": [
    {
     "data": {
      "text/html": [
       "<div>\n",
       "<style scoped>\n",
       "    .dataframe tbody tr th:only-of-type {\n",
       "        vertical-align: middle;\n",
       "    }\n",
       "\n",
       "    .dataframe tbody tr th {\n",
       "        vertical-align: top;\n",
       "    }\n",
       "\n",
       "    .dataframe thead th {\n",
       "        text-align: right;\n",
       "    }\n",
       "</style>\n",
       "<table border=\"1\" class=\"dataframe\">\n",
       "  <thead>\n",
       "    <tr style=\"text-align: right;\">\n",
       "      <th></th>\n",
       "      <th>Land Area</th>\n",
       "      <th>Bedrooms</th>\n",
       "      <th>Price</th>\n",
       "      <th>Location_A</th>\n",
       "      <th>Location_B</th>\n",
       "      <th>Location_C</th>\n",
       "    </tr>\n",
       "  </thead>\n",
       "  <tbody>\n",
       "    <tr>\n",
       "      <th>0</th>\n",
       "      <td>100</td>\n",
       "      <td>2</td>\n",
       "      <td>300000</td>\n",
       "      <td>True</td>\n",
       "      <td>False</td>\n",
       "      <td>False</td>\n",
       "    </tr>\n",
       "    <tr>\n",
       "      <th>1</th>\n",
       "      <td>120</td>\n",
       "      <td>3</td>\n",
       "      <td>350000</td>\n",
       "      <td>False</td>\n",
       "      <td>True</td>\n",
       "      <td>False</td>\n",
       "    </tr>\n",
       "    <tr>\n",
       "      <th>2</th>\n",
       "      <td>150</td>\n",
       "      <td>2</td>\n",
       "      <td>320000</td>\n",
       "      <td>True</td>\n",
       "      <td>False</td>\n",
       "      <td>False</td>\n",
       "    </tr>\n",
       "    <tr>\n",
       "      <th>3</th>\n",
       "      <td>180</td>\n",
       "      <td>4</td>\n",
       "      <td>400000</td>\n",
       "      <td>False</td>\n",
       "      <td>False</td>\n",
       "      <td>True</td>\n",
       "    </tr>\n",
       "    <tr>\n",
       "      <th>4</th>\n",
       "      <td>200</td>\n",
       "      <td>3</td>\n",
       "      <td>380000</td>\n",
       "      <td>False</td>\n",
       "      <td>True</td>\n",
       "      <td>False</td>\n",
       "    </tr>\n",
       "  </tbody>\n",
       "</table>\n",
       "</div>"
      ],
      "text/plain": [
       "   Land Area  Bedrooms   Price  Location_A  Location_B  Location_C\n",
       "0        100         2  300000        True       False       False\n",
       "1        120         3  350000       False        True       False\n",
       "2        150         2  320000        True       False       False\n",
       "3        180         4  400000       False       False        True\n",
       "4        200         3  380000       False        True       False"
      ]
     },
     "execution_count": 19,
     "metadata": {},
     "output_type": "execute_result"
    }
   ],
   "source": [
    "df.head()"
   ]
  },
  {
   "cell_type": "code",
   "execution_count": 2,
   "id": "419a9c24-cd69-4181-876d-3c6ed71f3b05",
   "metadata": {},
   "outputs": [
    {
     "name": "stdout",
     "output_type": "stream",
     "text": [
      "Mean Score: 86.6\n",
      "Median Score: 88.0\n",
      "Standard Deviation: 5.458937625582473\n"
     ]
    }
   ],
   "source": [
    "# Descriptive statistics\n",
    "mean_score = df['Exam_Score'].mean()\n",
    "median_score = df['Exam_Score'].median()\n",
    "std_dev = df['Exam_Score'].std()\n",
    "\n",
    "print(\"Mean Score:\", mean_score)\n",
    "print(\"Median Score:\", median_score)\n",
    "print(\"Standard Deviation:\", std_dev)"
   ]
  },
  {
   "cell_type": "code",
   "execution_count": 3,
   "id": "6aa3af82-d7a6-4993-bf9b-fa3d0f8d7469",
   "metadata": {},
   "outputs": [
    {
     "data": {
      "image/png": "[encoded data removed]",
      "text/plain": [
       "<Figure size 640x480 with 1 Axes>"
      ]
     },
     "metadata": {},
     "output_type": "display_data"
    }
   ],
   "source": [
    "# Histogram\n",
    "plt.hist(df['Exam_Score'], bins=10, color='skyblue', edgecolor='black')\n",
    "plt.xlabel('Exam Score')\n",
    "plt.ylabel('Frequency')\n",
    "plt.title('Distribution of Exam Scores')\n",
    "plt.show()"
   ]
  },
  {
   "cell_type": "markdown",
   "id": "b2709d33-4c3a-4d9c-ac68-8fa923267b8f",
   "metadata": {},
   "source": [
    "In this example:\n",
    "\n",
    "- We first import the pandas library to work with data in tabular form and the matplotlib library for data visualization.\n",
    "- We create a sample dataset containing student IDs and exam scores.\n",
    "- We calculate descriptive statistics such as the mean, median, and standard deviation of exam scores.\n",
    "- We create a histogram to visualize the distribution of exam scores.\n",
    "\n",
    "This example provides a basic demonstration of descriptive analytics in Python. You can further enhance the analysis by exploring additional descriptive statistics, visualizations, or applying more advanced techniques depending on the specific characteristics of your dataset and analytical objectives."
   ]
  },
  {
   "cell_type": "markdown",
   "id": "6298f84b-cf05-4139-aab1-7ad1d5403b34",
   "metadata": {},
   "source": [
    "# 2. _Diagnostic Analytics_\n",
    "This stage involves using data to understand why something happened or to identify patterns, anomalies, or issues in the data that require further investigation or corrective action. It involves techniques such as correlation analysis, regression analysis, outlier detection, and anomaly analysis to understand relationships between variables, determine root causes, or identify issues in the data.\n",
    "\n",
    "Diagnostic analytics involves analyzing data to understand why certain events or outcomes occurred. It aims to identify the root causes of problems or to uncover patterns that explain historical data trends. Here are some examples of diagnostic analytics:\n",
    "\n",
    "1. **Root Cause Analysis**: Analyzing customer complaints to determine the underlying reasons for product defects or service issues. This involves investigating factors such as manufacturing processes, supplier quality, or employee training to identify the root causes of problems.\n",
    "\n",
    "2. **Anomaly Detection**: Identifying unusual patterns or outliers in data that deviate from the norm. For example, detecting fraudulent transactions in financial data, unusual spikes in website traffic, or unexpected fluctuations in stock prices.\n",
    "\n",
    "3. **Failure Analysis**: Investigating equipment failures or system breakdowns to understand the contributing factors. This may involve analyzing maintenance records, equipment performance data, and environmental conditions to determine the root causes of failures.\n",
    "\n",
    "4. **Quality Control Analysis**: Examining production data to identify defects or variations in product quality. This could involve analyzing manufacturing process parameters, quality inspection results, and customer feedback to pinpoint areas for improvement.\n",
    "\n",
    "5. **Customer Churn Analysis**: Investigating the reasons why customers leave a company's products or services. This may involve analyzing customer behavior, satisfaction surveys, and service interactions to identify factors contributing to customer churn.\n",
    "\n",
    "6. **Healthcare Analytics**: Analyzing patient data to understand disease patterns, treatment effectiveness, and factors influencing patient outcomes. This could involve examining electronic health records, medical imaging data, and clinical trial results to improve healthcare decision-making.\n",
    "\n",
    "7. **Supply Chain Analysis**: Investigating disruptions or delays in the supply chain to identify the root causes. This may involve analyzing inventory levels, transportation data, and supplier performance metrics to improve supply chain efficiency and resilience.\n",
    "\n",
    "These examples illustrate how diagnostic analytics can be applied across various industries and domains to uncover insights and improve decision-making by understanding the reasons behind past events or outcomes."
   ]
  },
  {
   "cell_type": "markdown",
   "id": "20ba36b9-a7df-4006-b699-4c63c9e3307b",
   "metadata": {},
   "source": [
    "### Example\n",
    "\n",
    "Let's say you have a dataset containing information about sales transactions, and you want to investigate the factors contributing to a decrease in sales revenue."
   ]
  },
  {
   "cell_type": "code",
   "execution_count": 4,
   "id": "291de59b-820b-4fba-a013-2231002b6791",
   "metadata": {},
   "outputs": [],
   "source": [
    "import pandas as pd\n",
    "import matplotlib.pyplot as plt\n",
    "\n",
    "# Sample dataset\n",
    "data = {\n",
    "    'Month': ['Jan', 'Feb', 'Mar', 'Apr', 'May', 'Jun'],\n",
    "    'Sales_Revenue': [10000, 12000, 11000, 9500, 8000, 8500],\n",
    "    'Marketing_Spend': [2000, 2500, 2200, 1800, 1500, 1600]\n",
    "}\n",
    "\n",
    "df = pd.DataFrame(data)"
   ]
  },
  {
   "cell_type": "code",
   "execution_count": 5,
   "id": "b5a220dd-ea56-43f9-bd41-27ad464cc5a4",
   "metadata": {},
   "outputs": [
    {
     "data": {
      "text/html": [
       "<div>\n",
       "<style scoped>\n",
       "    .dataframe tbody tr th:only-of-type {\n",
       "        vertical-align: middle;\n",
       "    }\n",
       "\n",
       "    .dataframe tbody tr th {\n",
       "        vertical-align: top;\n",
       "    }\n",
       "\n",
       "    .dataframe thead th {\n",
       "        text-align: right;\n",
       "    }\n",
       "</style>\n",
       "<table border=\"1\" class=\"dataframe\">\n",
       "  <thead>\n",
       "    <tr style=\"text-align: right;\">\n",
       "      <th></th>\n",
       "      <th>Month</th>\n",
       "      <th>Sales_Revenue</th>\n",
       "      <th>Marketing_Spend</th>\n",
       "    </tr>\n",
       "  </thead>\n",
       "  <tbody>\n",
       "    <tr>\n",
       "      <th>0</th>\n",
       "      <td>Jan</td>\n",
       "      <td>10000</td>\n",
       "      <td>2000</td>\n",
       "    </tr>\n",
       "    <tr>\n",
       "      <th>1</th>\n",
       "      <td>Feb</td>\n",
       "      <td>12000</td>\n",
       "      <td>2500</td>\n",
       "    </tr>\n",
       "    <tr>\n",
       "      <th>2</th>\n",
       "      <td>Mar</td>\n",
       "      <td>11000</td>\n",
       "      <td>2200</td>\n",
       "    </tr>\n",
       "    <tr>\n",
       "      <th>3</th>\n",
       "      <td>Apr</td>\n",
       "      <td>9500</td>\n",
       "      <td>1800</td>\n",
       "    </tr>\n",
       "    <tr>\n",
       "      <th>4</th>\n",
       "      <td>May</td>\n",
       "      <td>8000</td>\n",
       "      <td>1500</td>\n",
       "    </tr>\n",
       "  </tbody>\n",
       "</table>\n",
       "</div>"
      ],
      "text/plain": [
       "  Month  Sales_Revenue  Marketing_Spend\n",
       "0   Jan          10000             2000\n",
       "1   Feb          12000             2500\n",
       "2   Mar          11000             2200\n",
       "3   Apr           9500             1800\n",
       "4   May           8000             1500"
      ]
     },
     "execution_count": 5,
     "metadata": {},
     "output_type": "execute_result"
    }
   ],
   "source": [
    "df.head()"
   ]
  },
  {
   "cell_type": "code",
   "execution_count": 6,
   "id": "05baac87-2d90-4993-b515-e1b638cb075f",
   "metadata": {},
   "outputs": [
    {
     "data": {
      "image/png": "[encoded data removed]",
      "text/plain": [
       "<Figure size 640x480 with 1 Axes>"
      ]
     },
     "metadata": {},
     "output_type": "display_data"
    }
   ],
   "source": [
    "# Line plot of sales revenue over time\n",
    "plt.plot(df['Month'], df['Sales_Revenue'], marker='o', color='blue', label='Sales Revenue')\n",
    "plt.xlabel('Month')\n",
    "plt.ylabel('Sales Revenue ($)')\n",
    "plt.title('Sales Revenue Over Time')\n",
    "plt.legend()\n",
    "plt.show()"
   ]
  },
  {
   "cell_type": "code",
   "execution_count": 7,
   "id": "54ce997e-c86f-47f7-adc0-cd4683b91774",
   "metadata": {},
   "outputs": [
    {
     "data": {
      "image/png": "[encoded data removed]",
      "text/plain": [
       "<Figure size 640x480 with 1 Axes>"
      ]
     },
     "metadata": {},
     "output_type": "display_data"
    }
   ],
   "source": [
    "# Scatter plot of sales revenue vs. marketing spend\n",
    "plt.scatter(df['Marketing_Spend'], df['Sales_Revenue'], color='red')\n",
    "plt.xlabel('Marketing Spend ($)')\n",
    "plt.ylabel('Sales Revenue ($)')\n",
    "plt.title('Sales Revenue vs. Marketing Spend')\n",
    "plt.show()"
   ]
  },
  {
   "cell_type": "markdown",
   "id": "584d8324-2f6d-4e85-9feb-1d948441b525",
   "metadata": {},
   "source": [
    "In this example:\n",
    "\n",
    "- We first import the pandas library to work with data in tabular form and the matplotlib library for data visualization.\n",
    "- We create a sample dataset containing monthly sales revenue and marketing spend data.\n",
    "- We create a line plot to visualize the trend of sales revenue over time.\n",
    "- We create a scatter plot to visualize the relationship between sales revenue and marketing spend.\n",
    "    \n",
    "These visualizations can help us diagnose potential factors contributing to the decrease in sales revenue, such as changes in marketing spend or seasonal patterns. Further analysis, such as correlation analysis or regression modeling, may be conducted to gain deeper insights into the relationships between variables and identify root causes of the decrease in sales revenue."
   ]
  },
  {
   "cell_type": "markdown",
   "id": "0a4c9be7-0398-42a3-8d6b-885e3cb85abb",
   "metadata": {},
   "source": [
    "# 3. _Hypothesis Testing_\n",
    "This stage involves forming and testing hypotheses to validate or reject certain assumptions or conjectures about the data. It is often used in experimental or scientific contexts to determine if there is sufficient evidence to support or reject specific hypotheses.\n",
    "\n",
    "Hypothesis testing is a fundamental concept in data analytics that involves making inferences about a population based on sample data. Here are some examples of hypothesis testing in data analytics:\n",
    "\n",
    "1. **A/B Testing in Marketing**: A company wants to compare the effectiveness of two different versions of an email marketing campaign. They randomly divide their email subscribers into two groups: Group A receives the original version of the email, while Group B receives a modified version with a different subject line. After sending out the emails, the company measures the click-through rates for each group. Hypothesis testing can be used to determine whether the difference in click-through rates between the two groups is statistically significant.\n",
    "\n",
    "2. **Drug Efficacy in Healthcare**: A pharmaceutical company develops a new drug intended to lower cholesterol levels in patients. To assess its efficacy, the company conducts a randomized controlled trial where patients are randomly assigned to receive either the new drug or a placebo. After a certain period, the cholesterol levels of the two groups are compared. Hypothesis testing can be used to determine whether there is a statistically significant difference in cholesterol levels between the two groups, indicating the effectiveness of the new drug.\n",
    "\n",
    "3. **Employee Satisfaction in Human Resources**: A company wants to investigate whether there is a difference in job satisfaction between employees in different departments. They administer a survey to employees from various departments and collect data on job satisfaction levels. Hypothesis testing can be used to compare the mean job satisfaction scores between different departments and determine whether any observed differences are statistically significant.\n",
    "\n",
    "4. **Customer Behavior in E-commerce**: An e-commerce company wants to determine whether offering free shipping affects customer purchase behavior. They randomly select a group of customers to receive free shipping on their orders, while another group pays standard shipping fees. After a certain period, the company analyzes the purchase behavior of both groups. Hypothesis testing can be used to assess whether there is a statistically significant difference in purchase frequency or order value between the two groups.\n",
    "\n",
    "5. **Weather Patterns in Environmental Science**: A meteorologist wants to investigate whether there has been a significant change in average temperatures over the past decade. They collect temperature data from weather stations for the past ten years and analyze the data to detect any trends. Hypothesis testing can be used to determine whether there is sufficient evidence to conclude that there has been a statistically significant change in average temperatures over time.\n",
    "\n",
    "These examples demonstrate how hypothesis testing is used in various domains of data analytics to make evidence-based decisions and draw conclusions from data."
   ]
  },
  {
   "cell_type": "markdown",
   "id": "e6fa316e-de05-4513-99cc-2d0b123014b1",
   "metadata": {},
   "source": [
    "### Example\n",
    "\n",
    "Let's say you have two samples of exam scores, one from a group of students who attended a tutoring program and another from a group who did not attend the program. You want to test whether there is a significant difference in the mean exam scores between the two groups."
   ]
  },
  {
   "cell_type": "code",
   "execution_count": 9,
   "id": "38d5284e-e32f-4df9-90c5-756dfadc059c",
   "metadata": {},
   "outputs": [],
   "source": [
    "import numpy as np\n",
    "from scipy import stats\n",
    "\n",
    "# Sample data (exam scores)\n",
    "treatment_group = [85, 90, 88, 92, 87]\n",
    "control_group = [78, 80, 75, 82, 79]"
   ]
  },
  {
   "cell_type": "code",
   "execution_count": 10,
   "id": "b5f6fedc-b9bb-4d17-97c1-87aa1a67e02c",
   "metadata": {},
   "outputs": [],
   "source": [
    "# Perform two-sample t-test\n",
    "t_statistic, p_value = stats.ttest_ind(treatment_group, control_group)"
   ]
  },
  {
   "cell_type": "code",
   "execution_count": 11,
   "id": "86300d6a-879a-4e14-bb36-1871e2db4291",
   "metadata": {},
   "outputs": [
    {
     "name": "stdout",
     "output_type": "stream",
     "text": [
      "Reject the null hypothesis: There is a significant difference in the mean exam scores between the two groups.\n"
     ]
    }
   ],
   "source": [
    "# Set significance level\n",
    "alpha = 0.05\n",
    "\n",
    "# Interpret the result\n",
    "if p_value < alpha:\n",
    "    print(\"Reject the null hypothesis: There is a significant difference in the mean exam scores between the two groups.\")\n",
    "else:\n",
    "    print(\"Fail to reject the null hypothesis: There is no significant difference in the mean exam scores between the two groups.\")"
   ]
  },
  {
   "cell_type": "markdown",
   "id": "b38e99ca-dc22-400f-85b1-821a6b27a2ca",
   "metadata": {},
   "source": [
    "In this example:\n",
    "\n",
    "- We first import the required libraries, NumPy for numerical operations and SciPy's stats module for statistical tests.\n",
    "- We define two sample datasets representing exam scores for the treatment (tutoring program) and control (no tutoring program) groups.\n",
    "- We perform a two-sample t-test using stats.ttest_ind() to compare the means of the two groups.\n",
    "- We set a significance level (alpha) of 0.05, indicating a 5% risk of rejecting the null hypothesis when it is actually true.\n",
    "- Based on the p-value returned by the t-test, we determine whether to reject the null hypothesis.\n",
    "    \n",
    "This example demonstrates how to perform a hypothesis test to compare the means of two independent samples using Python. Depending on your specific research question and data, different types of hypothesis tests and statistical methods may be appropriate."
   ]
  },
  {
   "cell_type": "markdown",
   "id": "c064bc73-9c2d-46ca-bf5d-7fe1d9f3768f",
   "metadata": {},
   "source": [
    "# 4. _Predictive Analytics_\n",
    "This is the stage where data is used to make predictions about future outcomes based on historical patterns or trends in the data. It involves the use of statistical techniques such as regression analysis, predictive modeling, and machine learning to forecast future values or to identify patterns that may emerge in the future.\n",
    "\n",
    "Predictive analytics involves using historical data to make predictions about future events or outcomes. Here are some examples of predictive analytics in data analytics:\n",
    "\n",
    "1. **Customer Churn Prediction**: A telecommunications company wants to predict which customers are likely to churn (cancel their service) in the next month. They can use historical customer data such as usage patterns, demographics, and customer service interactions to train a machine learning model. This model can then be used to predict the likelihood of churn for each customer in the future, allowing the company to take proactive retention actions.\n",
    "\n",
    "2. **Sales Forecasting**: A retail company wants to forecast sales for the next quarter to optimize inventory management and staffing. They can analyze historical sales data along with external factors such as seasonality, economic indicators, and marketing campaigns to build a predictive model. This model can then be used to predict future sales volumes, enabling the company to adjust inventory levels and staffing accordingly.\n",
    "\n",
    "3. **Credit Risk Assessment**: A financial institution wants to assess the credit risk of loan applicants to make lending decisions. They can use historical loan data along with applicant information such as credit score, income, and employment history to train a predictive model. This model can then be used to predict the likelihood of default for each loan applicant, helping the institution make informed lending decisions.\n",
    "\n",
    "4. **Demand Forecasting**: A manufacturing company wants to forecast demand for its products to optimize production planning and supply chain management. They can analyze historical sales data along with factors such as market trends, seasonality, and promotional activities to build a predictive model. This model can then be used to predict future demand for each product, allowing the company to adjust production levels and inventory accordingly.\n",
    "\n",
    "5. **Healthcare Outcome Prediction**: A hospital wants to predict patient outcomes such as readmission rates or complications following surgery. They can analyze electronic health records, lab results, and patient demographics to build predictive models. These models can then be used to predict the likelihood of adverse outcomes for each patient, allowing the hospital to intervene early and improve patient care.\n",
    "\n",
    "These examples demonstrate how predictive analytics can be applied across various industries and domains to make predictions about future events or outcomes using historical data and machine learning techniques."
   ]
  },
  {
   "cell_type": "markdown",
   "id": "ec13ce8c-9678-4931-93f8-81a19ba7ce95",
   "metadata": {},
   "source": [
    "### Example\n",
    "\n",
    "Let's create a dataset directly in Python code to demonstrate a simple predictive example. We'll create a dataset containing information about house prices based on features such as land area, number of bedrooms, and location."
   ]
  },
  {
   "cell_type": "code",
   "execution_count": 12,
   "id": "398803a2-bc52-4495-8d57-c84399691dde",
   "metadata": {},
   "outputs": [],
   "source": [
    "import pandas as pd\n",
    "from sklearn.model_selection import train_test_split\n",
    "from sklearn.linear_model import LinearRegression\n",
    "from sklearn.metrics import mean_squared_error\n",
    "\n",
    "# Create the dataset directly\n",
    "data = {\n",
    "    'Land Area': [100, 120, 150, 180, 200],\n",
    "    'Bedrooms': [2, 3, 2, 4, 3],\n",
    "    'Location': ['A', 'B', 'A', 'C', 'B'],\n",
    "    'Price': [300000, 350000, 320000, 400000, 380000]\n",
    "}\n",
    "\n",
    "df = pd.DataFrame(data)"
   ]
  },
  {
   "cell_type": "code",
   "execution_count": 13,
   "id": "697b51be-4aaf-4818-b573-4ce006dad605",
   "metadata": {},
   "outputs": [
    {
     "data": {
      "text/html": [
       "<div>\n",
       "<style scoped>\n",
       "    .dataframe tbody tr th:only-of-type {\n",
       "        vertical-align: middle;\n",
       "    }\n",
       "\n",
       "    .dataframe tbody tr th {\n",
       "        vertical-align: top;\n",
       "    }\n",
       "\n",
       "    .dataframe thead th {\n",
       "        text-align: right;\n",
       "    }\n",
       "</style>\n",
       "<table border=\"1\" class=\"dataframe\">\n",
       "  <thead>\n",
       "    <tr style=\"text-align: right;\">\n",
       "      <th></th>\n",
       "      <th>Land Area</th>\n",
       "      <th>Bedrooms</th>\n",
       "      <th>Location</th>\n",
       "      <th>Price</th>\n",
       "    </tr>\n",
       "  </thead>\n",
       "  <tbody>\n",
       "    <tr>\n",
       "      <th>0</th>\n",
       "      <td>100</td>\n",
       "      <td>2</td>\n",
       "      <td>A</td>\n",
       "      <td>300000</td>\n",
       "    </tr>\n",
       "    <tr>\n",
       "      <th>1</th>\n",
       "      <td>120</td>\n",
       "      <td>3</td>\n",
       "      <td>B</td>\n",
       "      <td>350000</td>\n",
       "    </tr>\n",
       "    <tr>\n",
       "      <th>2</th>\n",
       "      <td>150</td>\n",
       "      <td>2</td>\n",
       "      <td>A</td>\n",
       "      <td>320000</td>\n",
       "    </tr>\n",
       "    <tr>\n",
       "      <th>3</th>\n",
       "      <td>180</td>\n",
       "      <td>4</td>\n",
       "      <td>C</td>\n",
       "      <td>400000</td>\n",
       "    </tr>\n",
       "    <tr>\n",
       "      <th>4</th>\n",
       "      <td>200</td>\n",
       "      <td>3</td>\n",
       "      <td>B</td>\n",
       "      <td>380000</td>\n",
       "    </tr>\n",
       "  </tbody>\n",
       "</table>\n",
       "</div>"
      ],
      "text/plain": [
       "   Land Area  Bedrooms Location   Price\n",
       "0        100         2        A  300000\n",
       "1        120         3        B  350000\n",
       "2        150         2        A  320000\n",
       "3        180         4        C  400000\n",
       "4        200         3        B  380000"
      ]
     },
     "execution_count": 13,
     "metadata": {},
     "output_type": "execute_result"
    }
   ],
   "source": [
    "df.head()"
   ]
  },
  {
   "cell_type": "code",
   "execution_count": 14,
   "id": "572b6133-4b8a-4769-8b53-74f9e3842348",
   "metadata": {},
   "outputs": [],
   "source": [
    "# Convert categorical variables into dummy variables\n",
    "df = pd.get_dummies(df, columns=['Location'])"
   ]
  },
  {
   "cell_type": "code",
   "execution_count": 15,
   "id": "3dd8f85d-71b3-4b8a-9fc7-5c313170971b",
   "metadata": {},
   "outputs": [],
   "source": [
    "# Split the data into features (X) and target variable (y)\n",
    "X = df.drop('Price', axis=1)\n",
    "y = df['Price']"
   ]
  },
  {
   "cell_type": "code",
   "execution_count": 16,
   "id": "a8fcd3a9-6271-40d0-b553-fba09ae93852",
   "metadata": {},
   "outputs": [],
   "source": [
    "# Split the data into training and testing sets\n",
    "X_train, X_test, y_train, y_test = train_test_split(X, y, test_size=0.2, random_state=42)"
   ]
  },
  {
   "cell_type": "code",
   "execution_count": 17,
   "id": "93ca0424-d540-4d11-a69d-fde1dc7ecca9",
   "metadata": {},
   "outputs": [
    {
     "name": "stdout",
     "output_type": "stream",
     "text": [
      "Mean Squared Error: 4000000.0\n"
     ]
    }
   ],
   "source": [
    "# Build and train the linear regression model\n",
    "model = LinearRegression()\n",
    "model.fit(X_train, y_train)\n",
    "\n",
    "# Make predictions on the test set\n",
    "y_pred = model.predict(X_test)\n",
    "\n",
    "# Evaluate the model\n",
    "mse = mean_squared_error(y_test, y_pred)\n",
    "print(\"Mean Squared Error:\", mse)"
   ]
  },
  {
   "cell_type": "markdown",
   "id": "1469e317-2bd5-4294-ac47-6d912a34b68a",
   "metadata": {},
   "source": [
    "In this example:\n",
    "\n",
    "- We create a dataset directly in Python using a dictionary containing information about house prices.\n",
    "- We preprocess the data to convert categorical variables (location) into dummy variables.\n",
    "- We split the data into features (X) and the target variable (y).\n",
    "- We split the data into training and testing sets using the train_test_split() function.\n",
    "- We build a linear regression model using scikit-learn's LinearRegression() class and train it on the training data.\n",
    "- We make predictions on the test set using the trained model.\n",
    "- We evaluate the performance of the model using the mean squared error (MSE) metric."
   ]
  },
  {
   "cell_type": "markdown",
   "id": "b90d44a2-9008-4aba-afb8-282a2c3cc670",
   "metadata": {},
   "source": [
    "# 5. _Prescriptive Analytics_\n",
    "This stage involves using data to provide recommendations or actions needed to achieve specific goals or to optimize outcomes. It involves the use of mathematical models, optimization, and scenario analysis to determine the best course of action based on available information.\n",
    "\n",
    "Prescriptive analytics involves using data-driven insights to recommend actions or decisions that optimize outcomes or achieve specific business objectives. Here are some examples of prescriptive analytics in data analytics:\n",
    "\n",
    "1. **Dynamic Pricing Optimization**: An e-commerce company wants to optimize pricing strategies for its products to maximize revenue. By analyzing historical sales data, competitor pricing, customer demographics, and market trends, they can build a prescriptive analytics model. This model can recommend dynamic pricing adjustments in real-time based on factors such as demand elasticity, inventory levels, and customer segmentation to maximize profitability.\n",
    "\n",
    "2. **Supply Chain Optimization**: A logistics company wants to optimize its supply chain operations to minimize costs and improve efficiency. By analyzing historical shipment data, transportation routes, inventory levels, and supplier performance, they can build a prescriptive analytics model. This model can recommend optimal routes, transportation modes, and inventory levels to minimize transportation costs, reduce lead times, and improve overall supply chain performance.\n",
    "\n",
    "3. **Personalized Healthcare Treatment Plans**: A healthcare provider wants to optimize treatment plans for patients with chronic diseases such as diabetes or heart disease. By analyzing electronic health records, medical history, genetic data, and treatment outcomes, they can build a prescriptive analytics model. This model can recommend personalized treatment plans, medication dosages, and lifestyle interventions tailored to each patient's unique characteristics and health goals to optimize health outcomes and reduce healthcare costs.\n",
    "\n",
    "4. **Credit Risk Mitigation Strategies**: A financial institution wants to mitigate credit risk and minimize loan defaults. By analyzing historical loan data, credit scores, income levels, and economic indicators, they can build a prescriptive analytics model. This model can recommend risk mitigation strategies such as loan restructuring, collateral requirements, or credit limit adjustments for high-risk borrowers to minimize default rates and maximize profitability.\n",
    "\n",
    "5. **Energy Consumption Optimization**: A utility company wants to optimize energy consumption and reduce costs for its customers. By analyzing historical energy usage data, weather patterns, building characteristics, and energy prices, they can build a prescriptive analytics model. This model can recommend energy-efficient technologies, demand response programs, and pricing plans tailored to each customer's usage patterns and preferences to reduce energy consumption and lower utility bills.\n",
    "\n",
    "These examples illustrate how prescriptive analytics can be applied across various industries and domains to recommend optimal actions or decisions that drive business value and improve outcomes."
   ]
  },
  {
   "cell_type": "markdown",
   "id": "90b68f36-d335-431a-95e1-2d5fb5dc6272",
   "metadata": {},
   "source": [
    "### Example\n",
    "\n",
    "Example of prescriptive analytics could involve optimizing inventory levels to minimize costs while ensuring sufficient stock availability. Here's how you can approach this using Python:"
   ]
  },
  {
   "cell_type": "code",
   "execution_count": 22,
   "id": "61e10c13-945a-4177-8a6e-34b2d721a865",
   "metadata": {},
   "outputs": [],
   "source": [
    "import pandas as pd\n",
    "from scipy.optimize import minimize\n",
    "\n",
    "# Sample dataset\n",
    "data = {\n",
    "    'Product': ['A', 'B', 'C', 'D', 'E'],\n",
    "    'Demand': [100, 150, 200, 120, 180],  # Monthly demand\n",
    "    'Unit_Cost': [10, 15, 12, 8, 20],      # Cost per unit\n",
    "}\n",
    "\n",
    "df = pd.DataFrame(data)"
   ]
  },
  {
   "cell_type": "code",
   "execution_count": 23,
   "id": "8b6c7e78-963c-41c6-b0e4-dc970626a73b",
   "metadata": {},
   "outputs": [
    {
     "data": {
      "text/html": [
       "<div>\n",
       "<style scoped>\n",
       "    .dataframe tbody tr th:only-of-type {\n",
       "        vertical-align: middle;\n",
       "    }\n",
       "\n",
       "    .dataframe tbody tr th {\n",
       "        vertical-align: top;\n",
       "    }\n",
       "\n",
       "    .dataframe thead th {\n",
       "        text-align: right;\n",
       "    }\n",
       "</style>\n",
       "<table border=\"1\" class=\"dataframe\">\n",
       "  <thead>\n",
       "    <tr style=\"text-align: right;\">\n",
       "      <th></th>\n",
       "      <th>Product</th>\n",
       "      <th>Demand</th>\n",
       "      <th>Unit_Cost</th>\n",
       "    </tr>\n",
       "  </thead>\n",
       "  <tbody>\n",
       "    <tr>\n",
       "      <th>0</th>\n",
       "      <td>A</td>\n",
       "      <td>100</td>\n",
       "      <td>10</td>\n",
       "    </tr>\n",
       "    <tr>\n",
       "      <th>1</th>\n",
       "      <td>B</td>\n",
       "      <td>150</td>\n",
       "      <td>15</td>\n",
       "    </tr>\n",
       "    <tr>\n",
       "      <th>2</th>\n",
       "      <td>C</td>\n",
       "      <td>200</td>\n",
       "      <td>12</td>\n",
       "    </tr>\n",
       "    <tr>\n",
       "      <th>3</th>\n",
       "      <td>D</td>\n",
       "      <td>120</td>\n",
       "      <td>8</td>\n",
       "    </tr>\n",
       "    <tr>\n",
       "      <th>4</th>\n",
       "      <td>E</td>\n",
       "      <td>180</td>\n",
       "      <td>20</td>\n",
       "    </tr>\n",
       "  </tbody>\n",
       "</table>\n",
       "</div>"
      ],
      "text/plain": [
       "  Product  Demand  Unit_Cost\n",
       "0       A     100         10\n",
       "1       B     150         15\n",
       "2       C     200         12\n",
       "3       D     120          8\n",
       "4       E     180         20"
      ]
     },
     "execution_count": 23,
     "metadata": {},
     "output_type": "execute_result"
    }
   ],
   "source": [
    "df.head()"
   ]
  },
  {
   "cell_type": "code",
   "execution_count": 24,
   "id": "398fa571-5194-4275-a666-b2cc76916fa0",
   "metadata": {},
   "outputs": [],
   "source": [
    "# Define objective function\n",
    "def total_cost(x, df):\n",
    "    return sum(x * df['Unit_Cost'])"
   ]
  },
  {
   "cell_type": "code",
   "execution_count": 25,
   "id": "87d4cfa0-8d7f-4335-a7bd-5657a08d98fc",
   "metadata": {},
   "outputs": [],
   "source": [
    "# Define constraint function (demand constraint)\n",
    "def demand_constraint(x, df):\n",
    "    return sum(x) - df['Demand'].sum()"
   ]
  },
  {
   "cell_type": "code",
   "execution_count": 26,
   "id": "42363b2c-6992-4078-a660-32ee7c661364",
   "metadata": {},
   "outputs": [],
   "source": [
    "# Initial guess (starting point)\n",
    "x0 = [50, 50, 50, 50, 50]  # Initial inventory levels for each product"
   ]
  },
  {
   "cell_type": "code",
   "execution_count": 27,
   "id": "8588aa92-69df-48c2-aaf4-49da2375382a",
   "metadata": {},
   "outputs": [],
   "source": [
    "# Define bounds for inventory levels (minimum inventory is 0)\n",
    "bounds = [(0, None)] * len(df)"
   ]
  },
  {
   "cell_type": "code",
   "execution_count": 29,
   "id": "4c9538c6-6a46-4c2d-93ad-c915d6184fb8",
   "metadata": {},
   "outputs": [],
   "source": [
    "# Define demand constraint\n",
    "constraint = {'type': 'eq', 'fun': demand_constraint, 'args': (df,)}"
   ]
  },
  {
   "cell_type": "code",
   "execution_count": 30,
   "id": "3f0588c9-fa23-4fc3-a750-afd5308244a2",
   "metadata": {},
   "outputs": [],
   "source": [
    "# Minimize total cost subject to demand constraint\n",
    "result = minimize(total_cost, x0, args=(df,), bounds=bounds, constraints=constraint)"
   ]
  },
  {
   "cell_type": "code",
   "execution_count": 31,
   "id": "b495db9b-ff12-45ed-9502-abadc792be10",
   "metadata": {},
   "outputs": [
    {
     "name": "stdout",
     "output_type": "stream",
     "text": [
      "Optimized Inventory Levels:\n",
      "A: 1.857785036918358e-10 units\n",
      "B: 6.301856814161511e-10 units\n",
      "C: 1.1958061207906212e-09 units\n",
      "D: 749.9999999974063 units\n",
      "E: 5.819185133759674e-10 units\n",
      "Total Cost: 6000.00000001655\n"
     ]
    }
   ],
   "source": [
    "# Extract optimized inventory levels\n",
    "optimized_inventory = result.x\n",
    "\n",
    "print(\"Optimized Inventory Levels:\")\n",
    "for i, product in enumerate(df['Product']):\n",
    "    print(f\"{product}: {optimized_inventory[i]} units\")\n",
    "\n",
    "print(\"Total Cost:\", result.fun)"
   ]
  },
  {
   "cell_type": "markdown",
   "id": "1ad77830-8844-499a-8017-11654d71a3f7",
   "metadata": {},
   "source": [
    "In this example:\n",
    "\n",
    "- We have a sample dataset containing information about products, their monthly demand, and unit costs.\n",
    "- We define an objective function to minimize the total cost of inventory.\n",
    "- We define a constraint function to ensure that the total inventory meets the total demand.\n",
    "- We set the initial guess for inventory levels and define bounds (minimum inventory is 0).\n",
    "- We minimize the total cost subject to the demand constraint using the minimize function from SciPy's optimization module.\n",
    "- We extract the optimized inventory levels and print them along with the total cost.\n",
    "    \n",
    "This example demonstrates how you can use Python and optimization techniques to perform prescriptive analytics by recommending optimal inventory levels to minimize costs while meeting demand requirements."
   ]
  }
 ],
 "metadata": {
  "kernelspec": {
   "display_name": "Python 3 (ipykernel)",
   "language": "python",
   "name": "python3"
  },
  "language_info": {
   "codemirror_mode": {
    "name": "ipython",
    "version": 3
   },
   "file_extension": ".py",
   "mimetype": "text/x-python",
   "name": "python",
   "nbconvert_exporter": "python",
   "pygments_lexer": "ipython3",
   "version": "3.11.7"
  }
 },
 "nbformat": 4,
 "nbformat_minor": 5
}
